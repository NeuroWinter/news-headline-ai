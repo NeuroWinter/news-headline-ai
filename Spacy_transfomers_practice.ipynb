{
  "nbformat": 4,
  "nbformat_minor": 0,
  "metadata": {
    "colab": {
      "name": "Spacy-transfomers-practice.ipynb",
      "provenance": [],
      "collapsed_sections": [],
      "machine_shape": "hm",
      "include_colab_link": true
    },
    "kernelspec": {
      "name": "python3",
      "display_name": "Python 3"
    },
    "accelerator": "GPU"
  },
  "cells": [
    {
      "cell_type": "markdown",
      "metadata": {
        "id": "view-in-github",
        "colab_type": "text"
      },
      "source": [
        "<a href=\"https://colab.research.google.com/github/NeuroWinter/news-headline-ai/blob/master/Spacy_transfomers_practice.ipynb\" target=\"_parent\"><img src=\"https://colab.research.google.com/assets/colab-badge.svg\" alt=\"Open In Colab\"/></a>"
      ]
    },
    {
      "cell_type": "code",
      "metadata": {
        "id": "rOucPcydcmNO",
        "colab_type": "code",
        "colab": {}
      },
      "source": [
        "!pip install -U spacy[cuda100]\n",
        "!pip install spacy-transformers\n",
        "!python3 -m spacy download en_trf_distilbertbaseuncased_lg\n",
        "!pip install torch"
      ],
      "execution_count": 0,
      "outputs": []
    },
    {
      "cell_type": "markdown",
      "metadata": {
        "id": "vJHwnL15E3i1",
        "colab_type": "text"
      },
      "source": [
        ""
      ]
    },
    {
      "cell_type": "code",
      "metadata": {
        "id": "mUIq-IpqE-w4",
        "colab_type": "code",
        "outputId": "261c6af2-3669-407f-c719-e777ee99c8d9",
        "colab": {
          "base_uri": "https://localhost:8080/",
          "height": 54
        }
      },
      "source": [
        "import pandas as pd\n",
        "import csv\n",
        "\n",
        "# REMEBER TO UPLOAD THIS!\n",
        "input_file = 'news_headlines.csv'\n",
        "\n",
        "TRAIN_DATA = []\n",
        "df = pd.read_csv(input_file)\n",
        "\n",
        "list_of_sites = list(df['news_site'].unique())\n",
        "\n",
        "for row in df.iterrows():\n",
        "    row_headline       = row[1][2]\n",
        "    row_cat            = {site: 0.0 for site in list_of_sites}\n",
        "    row_cat[row[1][1]] += 1.0\n",
        "    TRAIN_DATA.append((row_headline.strip(), {\"cats\": row_cat}))\n",
        "print(TRAIN_DATA[0])\n",
        "df = None"
      ],
      "execution_count": 1,
      "outputs": [
        {
          "output_type": "stream",
          "text": [
            "('Experts say adapting to climate change can pay off manifold', {'cats': {'ABC - Tech': 1.0, 'ABC - Top Stories': 0.0, 'ABC - US': 0.0, 'ABC - World': 0.0, 'Al Jazeera': 0.0, 'AllAfrica News - Mozambique': 0.0, 'ARRL': 0.0, 'Ars Technica - all features': 0.0, 'Ars Technica - all news': 0.0, 'Axios - Business': 0.0, 'Axios - Energy': 0.0, 'Axios - Future': 0.0, 'Axios - Health Care': 0.0, 'Axios - Politics': 0.0, 'Axios - Science': 0.0, 'Axios - Technology': 0.0, 'Axios - Top': 0.0, 'Axios - World': 0.0, 'Bandladesh - bdnews24.com': 0.0, 'Bangkok Post - Lifestyle': 0.0, 'Bangkok Post - Most Recent': 0.0, 'Bangkok Post - Top Stories': 0.0, 'Bangkok Post - Travel': 0.0, 'BBC': 0.0, 'BBC - Africa': 0.0, 'BBC - Asia': 0.0, 'BBC - England': 0.0, 'BBC - Europe': 0.0, 'BBC - Latin America': 0.0, 'BBC - Middle East': 0.0, 'BBC - Northern Ireland': 0.0, 'BBC - Scotland': 0.0, 'BBC - UK': 0.0, 'BBC - US & Canada': 0.0, 'BBC - Wales': 0.0, 'BBC - World': 0.0, 'Breitbart \"News\"': 0.0, 'Buzzfeed - US News': 0.0, 'CanLii - Regulations': 0.0, 'CanLii - Supreme Court of Canada': 0.0, 'Caracas Chronicles - all': 0.0, 'CBC - Aboriginal': 0.0, 'CBC - Canada': 0.0, 'CBC - Politics': 0.0, 'CBC - Top Stories': 0.0, 'CBC - World': 0.0, 'CBS - 48 Hours': 0.0, 'CBS - 60 Minutes': 0.0, 'CBS - Politics': 0.0, 'CBS - Primary Source': 0.0, 'CBS - SciTech': 0.0, 'CBS - Strange': 0.0, 'CBS - TechTalk': 0.0, 'CBS - US': 0.0, 'CBS - World': 0.0, 'ChinaDaily - HK News': 0.0, 'ChinaDaily - News': 0.0, 'Civil.ge': 0.0, 'CNBC - Earnings Central': 0.0, 'CNBC - Economy': 0.0, 'CNBC - Energy': 0.0, 'CNBC - Investing': 0.0, 'CNBC - News': 0.0, 'CNBC - News Releases': 0.0, 'CNBC - Politics': 0.0, 'CNBC - Tech/Business': 0.0, 'CNET - News': 0.0, 'CNN - Politics': 0.0, 'CNN - Top Stories': 0.0, 'CTV News - Canada': 0.0, 'CTV News - Montreal Latest': 0.0, 'CTV News - Politics': 0.0, 'CTV News - Top Stories': 0.0, 'CTV News - World': 0.0, 'Daily Kos': 0.0, 'Daily Maverick': 0.0, 'Daily Post Nigeria - all': 0.0, 'Der Spiegel': 0.0, 'Der Spiegel - auf Deutsch': 0.0, 'Der Spiegel - Business News': 0.0, 'Der Spiegel - European News': 0.0, 'Der Spiegel - Germany News': 0.0, 'Der Spiegel - World News': 0.0, 'Der Spiegel - Zeitgeist': 0.0, 'Drudge Report': 0.0, 'DSL Reports': 0.0, 'Ed Felten - Freedom to Tinker': 0.0, 'EFF Updates': 0.0, 'en.publika.md': 0.0, 'eNCA - Top Stories': 0.0, 'EU vs DISINFORMATION': 0.0, 'FactCheck': 0.0, 'FactCheckNI': 0.0, 'Financial Times - Asia': 0.0, 'Financial Times - Europe': 0.0, 'Financial Times - India': 0.0, 'Financial Times - Middle East': 0.0, 'Financial Times - UK': 0.0, 'Financial Times - US': 0.0, 'FiveThirtyEight - All': 0.0, 'FiveThirtyEight - Nate Silver': 0.0, 'FoxNews': 0.0, 'FoxNews - Politics': 0.0, 'france24': 0.0, 'freenode': 0.0, 'Futura Sciences': 0.0, 'GlobalNews.ca': 0.0, 'GlobalNews.ca - Canada': 0.0, 'GlobalNews.ca - Politics': 0.0, 'GlobalNews.ca - World': 0.0, 'Goo2019-11-20 10:19:18\\tℹ \\tTopic for ##news is \"[world': 0.0, 'Google News - \"Catalonia\"': 0.0, 'Google News - \"Iran\"': 0.0, 'Google News - \"North Korea\"': 0.0, 'Google News - \"Palestine\"': 0.0, 'Google News - \"Palestinian\"': 0.0, 'Google News - \"Russia\"': 0.0, 'Google News - \"spain\"': 0.0, 'Google News - \"Syria\"': 0.0, 'Google News - \"Turkey\"': 0.0, 'Google News - Canada': 0.0, 'Google News - Canada - Top Stories': 0.0, 'Google News - Health': 0.0, 'Google News - India': 0.0, 'Google News - Ireland': 0.0, 'Google News - Israel': 0.0, 'Google News - Malaysia': 0.0, 'Google News - Pakistan': 0.0, 'Google News - Philippines': 0.0, 'Google News - Science': 0.0, 'Google News - Singapore': 0.0, 'Google News - South Africa': 0.0, 'Google News - Technology': 0.0, 'Google News - Uganda': 0.0, 'Google News - UK': 0.0, 'Google News - US': 0.0, 'Google News - US Business': 0.0, 'Google News - Venezuela': 0.0, 'Google News - World': 0.0, 'Google News - Zimbabwe': 0.0, 'Gossip Cop': 0.0, 'Haaretz - All Headlines': 0.0, 'Haaretz - Israel News': 0.0, 'Haaretz - WorldNews': 0.0, 'Hacker News': 0.0, 'Hoax Slayer': 0.0, 'HRC': 0.0, 'Huffington Post - Business News': 0.0, 'Huffington Post - Education News': 0.0, 'Huffington Post - Money': 0.0, 'Huffington Post - Politics': 0.0, 'Huffington Post - Religion': 0.0, 'Huffington Post - Weird News': 0.0, 'Independent - Business': 0.0, 'Independent - Education': 0.0, 'Independent - Media': 0.0, 'Independent - Money': 0.0, 'Independent - News': 0.0, 'Independent - Science': 0.0, 'Independent - UK': 0.0, 'Independent - World': 0.0, 'infowars': 0.0, 'ISC': 0.0, 'Japan Today': 0.0, 'Journal du hacker': 0.0, 'JPost - Arab Israeli Conflict': 0.0, 'JPost - BDS Movement': 0.0, 'JPost - Breaking News': 0.0, 'JPost - Gaza News': 0.0, 'Laotian Times - all': 0.0, 'Lead Stories': 0.0, 'LGBTQ Nation - all': 0.0, 'Mail & Guardian': 0.0, 'Media Bias/Fact Check': 0.0, 'Metabunk': 0.0, 'Metro - The Guardian Nigeria': 0.0, 'MetroNews - Canada': 0.0, 'MetroNews - Toronto': 0.0, 'MetroNews - World': 0.0, 'Mexico News Daily': 0.0, 'MotherJones - all': 0.0, 'MSNBC - Latest Headlines': 0.0, 'NBC - Politics': 0.0, 'NBC - Top Stories': 0.0, 'NBC - US': 0.0, 'Nepali Times - all': 0.0, 'New Statesman': 0.0, 'New Statesmen - Politics': 0.0, 'News24 - Africa': 0.0, 'News24 - South Africa': 0.0, 'News24 - Top Stories': 0.0, 'News24 - World': 0.0, 'Newsy - All Videos': 0.0, 'Nikkei Asian Review': 0.0, 'North Korea News.org - all': 0.0, 'North Korean Times - Latest': 0.0, 'Novinite (Bulgarian)': 0.0, 'NPR - Arts': 0.0, 'NPR - Business': 0.0, 'NPR - Health & Science': 0.0, 'NPR - Middle East': 0.0, 'NPR - News': 0.0, 'NPR - Politics': 0.0, 'NPR - Research News': 0.0, 'NPR - Space': 0.0, 'NPR - U.S. News': 0.0, 'NPR - World News': 0.0, 'NY Post': 0.0, 'NYT - Africa': 0.0, 'NYT - Americas': 0.0, 'NYT - Asia Pacific': 0.0, 'NYT - Business': 0.0, 'NYT - Europe': 0.0, 'NYT - Middle East': 0.0, 'NYT - Science': 0.0, 'NYT - Technology': 0.0, 'NYT - US': 0.0, 'NYT - US Politics': 0.0, 'NYT - Wire': 0.0, 'NYT - World News': 0.0, 'OANN - all': 0.0, 'OANN - Business': 0.0, 'OANN - Economy': 0.0, 'OANN - Money': 0.0, 'OANN - Tech': 0.0, 'OANN - Top News': 0.0, 'OANN - World': 0.0, 'PBS - NewsHour The Latest': 0.0, 'Peruvian Times': 0.0, 'Phoronix': 0.0, 'Politico - Congress': 0.0, 'Politico - Defense': 0.0, 'Politico - Economy': 0.0, 'Politico - Energy & Environment': 0.0, 'Politico - Health Care': 0.0, 'Politico - Picks': 0.0, 'Politico - Politics': 0.0, 'Politifact - Articles': 0.0, 'Politifact - Statements': 0.0, 'ProPublica - Main': 0.0, 'pulse.ng - Local': 0.0, 'Radio-Canada Nouvelles': 0.0, 'Rasmussen Reports': 0.0, 'Raw Story': 0.0, 'Real Clear Poltics': 0.0, 'Reason.com - Articles': 0.0, 'Reddit - /r/Europe': 0.0, 'Reddit - /r/netsec': 0.0, 'Reddit - /r/news': 0.0, 'Reddit - /r/politics': 0.0, 'Reddit - /r/TrueReddit': 0.0, 'Reddit - /r/UpliftingNews': 0.0, 'Reddit - /r/WorldNews - New': 0.0, 'Reddit - Russia Lago': 0.0, 'Reuters - Arts': 0.0, 'Reuters - Business': 0.0, 'Reuters - Company News': 0.0, 'Reuters - Entertainment': 0.0, 'Reuters - Environment': 0.0, 'Reuters - Health News': 0.0, 'Reuters - Lifestyle': 0.0, 'Reuters - Money': 0.0, 'Reuters - Most Watched Video': 0.0, 'Reuters - Oddly Enough': 0.0, 'Reuters - People': 0.0, 'Reuters - Pictures': 0.0, 'Reuters - Politics': 0.0, 'Reuters - Politics Video': 0.0, 'Reuters - Science': 0.0, 'Reuters - Sports': 0.0, 'Reuters - Technology': 0.0, 'Reuters - Top News': 0.0, 'Reuters - Top News Video': 0.0, 'Reuters - US News': 0.0, 'Reuters - World': 0.0, 'Reuters - World News Video': 0.0, 'RightWingWatch': 0.0, 'Rio Times - All': 0.0, 'RollCall - All': 0.0, 'RollCall - Heard on the Hill': 0.0, 'RollCall - News without Opinion': 0.0, 'RollCall - Opinion/Analysis': 0.0, 'RollCall - Policy': 0.0, 'RollCall - Rothenblog': 0.0, 'Romania Insider - all': 0.0, 'RT': 0.0, 'SABC News': 0.0, 'Science Daily - all': 0.0, 'SCOTUSblog': 0.0, 'Sky News': 0.0, 'Sky News - Business': 0.0, 'Sky News - Politics': 0.0, 'Sky News - Strange News': 0.0, 'Sky News - Technology': 0.0, 'Sky News - UK': 0.0, 'Sky News - US': 0.0, 'Sky News - World': 0.0, 'Slate - Main': 0.0, 'Slate - Politics': 0.0, 'Slate - Science': 0.0, 'Smithsonian Science': 0.0, 'Snopes': 0.0, 'South China Morning Post - (China) Diplomacy & Defense': 0.0, 'South China Morning Post - (China) Economy': 0.0, 'South China Morning Post - (China) Money & Wealth': 0.0, 'South China Morning Post - (China) Policies & Politics': 0.0, 'South China Morning Post - (China) Society': 0.0, 'South China Morning Post - (HK) Economy': 0.0, 'South China Morning Post - (HK) Law & Crime': 0.0, 'South China Morning Post - (HK) Politics': 0.0, 'South China Morning Post - Asia': 0.0, 'South China Morning Post - China': 0.0, 'South China Morning Post - Hong Kong': 0.0, 'South China Morning Post - News': 0.0, 'South China Morning Post - World': 0.0, 'South China MP - (Business) China Economy': 0.0, 'South China MP - Africa': 0.0, 'South China MP - Americas': 0.0, 'South China MP - Arts & Entertainment': 0.0, 'South China MP - Australasia': 0.0, 'South China MP - Culture': 0.0, 'South China MP - East Asia': 0.0, 'South China MP - Europe': 0.0, 'South China MP - Film & TV': 0.0, 'South China MP - Life': 0.0, 'South China MP - Middle East': 0.0, 'South China MP - Music': 0.0, 'South China MP - Property HK / China': 0.0, 'South China MP - Russia & Central Asia': 0.0, 'South China MP - Southeast Asia': 0.0, 'South China MP - This Week in Asia': 0.0, 'South China MP - TWIA Business': 0.0, 'South China MP - TWIA Opinion': 0.0, 'South China MP - TWIA Politics': 0.0, 'South China MP - USA': 0.0, 'SowetanLIVE': 0.0, 'SRN News': 0.0, 'SWI - Top News': 0.0, 'Sydney Anglicans - All News': 0.0, 'Sydney Morning Herald - Business': 0.0, 'Sydney Morning Herald - National': 0.0, 'Sydney Morning Herald - Technology': 0.0, 'Sydney Morning Herald - Top Stories': 0.0, 'Sydney Morning Herald - World': 0.0, 'Syrian Arab News Agency - all': 0.0, 'Taipei Times - all': 0.0, 'Taipei Times - Bilingual': 0.0, 'Taipei Times - Local News': 0.0, 'Taipei Times - World': 0.0, 'Taiwan Today - Top News': 0.0, 'techdirt': 0.0, 'Telegraph - Business': 0.0, 'Telegraph - Latest News': 0.0, 'Telegraph - News': 0.0, 'Telegraph - Politics': 0.0, 'Telegraph - Science': 0.0, 'Telegraph - Technology': 0.0, 'Thai PBS World': 0.0, 'Thailand News - Breaking': 0.0, 'The Atlantic - all': 0.0, 'The Atlantic - Global': 0.0, 'The Atlantic - Politics': 0.0, 'The Bali Times - all': 0.0, 'The Baltic Times - all': 0.0, 'The Citizen': 0.0, 'The Costa Rica News': 0.0, 'The Daily Caller - all': 0.0, 'The Gateway Pundit': 0.0, 'The Guardian - UK': 0.0, 'The Guardian - US': 0.0, 'The Hill - Administration': 0.0, 'The Hill - All News': 0.0, 'The Hill - Campaign': 0.0, 'The Hill - House': 0.0, 'The Hill - Senate': 0.0, 'The Himalayan Times - all': 0.0, 'The Intercept': 0.0, 'The Krakow Post - all': 0.0, 'The Local (Germany)': 0.0, 'The Local (Spain)': 0.0, 'The Moscow Times - News': 0.0, 'The Moscow Times - Opinion': 0.0, 'The Nation': 0.0, 'The Real News Network': 0.0, 'The Romania Journal - all': 0.0, 'The Slovak Spectator': 0.0, 'The Slovak Spectator - title': 0.0, 'The Sofia Globe (Bulgaria)': 0.0, 'The Standard (HK) - Latest News': 0.0, 'The Tico Times - Costa Rica News': 0.0, 'TheJournal': 0.0, 'Time - Blog: Politics, Swampland': 0.0, 'Time - Business': 0.0, 'Time - Health': 0.0, 'Time - Newsfeed': 0.0, 'Time - Science': 0.0, 'Time - Tech': 0.0, 'Time - Top Stories': 0.0, 'Time - World': 0.0, 'Times Colonist - All': 0.0, 'Times Colonist - B.C.': 0.0, 'Times Colonist - Business': 0.0, 'Times Colonist - News': 0.0, 'Times of India - China': 0.0, 'Times of India - Education': 0.0, 'Times of India - Environment': 0.0, 'Times of India - Europe': 0.0, 'Times of India - India': 0.0, 'Times of India - Mad, Mad World': 0.0, 'Times of India - Middle East': 0.0, 'Times of India - News (Video)': 0.0, 'Times of India - NRI': 0.0, 'Times of India - South Asia': 0.0, 'Times of India - Top Stories': 0.0, 'Times of India - UK': 0.0, 'Times of India - US': 0.0, 'Times of India - World': 0.0, 'Tonga Broadcasting': 0.0, 'TorrentFreak': 0.0, 'TownHall - Latest Breaking News': 0.0, 'TownHall - Political': 0.0, 'TownHall - Science & Tech': 0.0, 'Truth or Fiction': 0.0, 'UN News Service': 0.0, 'USA.gov Updates': 0.0, 'VICE News - News': 0.0, 'Voice of Russia': 0.0, 'Washington Post - Fact Checker': 0.0, 'Washington Post - National News': 0.0, 'Washington Post - Politics': 0.0, 'Washington Post - World News': 0.0, 'Washington Times - Culture': 0.0, 'Washington Times - National': 0.0, 'Washington Times - News': 0.0, 'Washington Times - Politics': 0.0, 'Washington Times - Tech': 0.0, 'Wikinews': 0.0, 'Wired': 0.0, 'WTFJHT': 0.0, 'XKCD': 0.0, 'Yahoo News': 0.0, 'Yahoo News - Politics': 0.0, 'Yahoo News - Top Stories': 0.0, 'yam.md Moldova': 0.0, 'Zawya - Exclusive': 0.0, 'Zawya - Latest': 0.0, 'Zawya - Top Markets': 0.0, 'Zawya - Top Regional': 0.0, 'Zehabesha - all': 0.0, 'ZeroHedge - News': 0.0}})\n"
          ],
          "name": "stdout"
        }
      ]
    },
    {
      "cell_type": "code",
      "metadata": {
        "id": "L9bc2FN-e5nP",
        "colab_type": "code",
        "colab": {}
      },
      "source": [
        "# RUN THIS TO MAKE SURE THAT SPACY IS WORKING\n",
        "import spacy\n",
        "\n",
        "nlp = spacy.load('en_trf_distilbertbaseuncased_lg')\n",
        "doc = nlp(\"Apple shares rose on the news. Apple pie is delicious.\")\n",
        "print(doc[0].similarity(doc[7]))\n",
        "print(doc._.trf_last_hidden_state.shape)"
      ],
      "execution_count": 0,
      "outputs": []
    },
    {
      "cell_type": "code",
      "metadata": {
        "id": "UQJuNlC7hHra",
        "colab_type": "code",
        "colab": {}
      },
      "source": [
        "TRAIN_DATA = [\n",
        "    (\"text1\", {\"cats\": {\"POSITIVE\": 1.0, \"NEGATIVE\": 0.0, \"TESTING\": 0.0}})\n",
        "]"
      ],
      "execution_count": 0,
      "outputs": []
    },
    {
      "cell_type": "code",
      "metadata": {
        "id": "FhsoEOcNhLag",
        "colab_type": "code",
        "outputId": "d58ad7d4-f9b9-472c-c1fc-efa2d6def280",
        "colab": {
          "base_uri": "https://localhost:8080/",
          "height": 1000
        }
      },
      "source": [
        "import spacy\n",
        "import random\n",
        "import torch\n",
        "\n",
        "from spacy.util         import minibatch\n",
        "from spacy_transformers import TransformersLanguage, TransformersWordPiecer, TransformersTok2Vec\n",
        "\n",
        "BATCH_SIZE = 1000\n",
        "ITERATIONS = 2\n",
        "MODEL      = \"distilbert-base-uncased\"\n",
        "\n",
        "is_using_gpu = spacy.prefer_gpu()\n",
        "if is_using_gpu:\n",
        "    print(\"USING GPU\")\n",
        "    torch.set_default_tensor_type(\"torch.cuda.FloatTensor\")\n",
        "\n",
        "print(f\"Number of lables: {len(list_of_sites)}\")\n",
        "print(f\"Number of training data: {len(TRAIN_DATA)}\")\n",
        "\n",
        "nlp = spacy.load(\"en_trf_distilbertbaseuncased_lg\")\n",
        "print(nlp.pipe_names) # [\"sentencizer\", \"trf_wordpiecer\", \"trf_tok2vec\"]\n",
        "textnews = nlp.create_pipe(\"trf_textcat\", config={\"exclusive_classes\": True})\n",
        "for label in list_of_sites:\n",
        "    textnews.add_label(label)\n",
        "nlp.add_pipe(textnews)\n",
        "optimizer = nlp.resume_training()\n",
        "for i in range(ITERATIONS):\n",
        "    random.shuffle(TRAIN_DATA)\n",
        "    losses = {}\n",
        "    for x, batch in enumerate(minibatch(TRAIN_DATA, size=BATCH_SIZE)):\n",
        "        texts, news = zip(*batch)\n",
        "        nlp.update(texts, news, sgd=optimizer, losses=losses)\n",
        "        print(f\"Batch number: {x}, Losses: {losses}\")\n",
        "    print(f\"Iteration: {i}, Losses: {losses}\")"
      ],
      "execution_count": 0,
      "outputs": [
        {
          "output_type": "stream",
          "text": [
            "USING GPU\n",
            "Number of lables: 450\n",
            "Number of training data: 240414\n",
            "['sentencizer', 'trf_wordpiecer', 'trf_tok2vec']\n",
            "Batch number: 0, Losses: {'trf_textcat': 9.977775334846228e-07}\n",
            "Batch number: 1, Losses: {'trf_textcat': 1.994800186366774e-06}\n",
            "Batch number: 2, Losses: {'trf_textcat': 2.990829443660914e-06}\n",
            "Batch number: 3, Losses: {'trf_textcat': 3.992123197349429e-06}\n",
            "Batch number: 4, Losses: {'trf_textcat': 4.992544745618943e-06}\n",
            "Batch number: 5, Losses: {'trf_textcat': 5.988673365209252e-06}\n",
            "Batch number: 6, Losses: {'trf_textcat': 6.981813385209534e-06}\n",
            "Batch number: 7, Losses: {'trf_textcat': 7.97309508016042e-06}\n",
            "Batch number: 8, Losses: {'trf_textcat': 8.963248092186404e-06}\n",
            "Batch number: 9, Losses: {'trf_textcat': 9.952092796083889e-06}\n",
            "Batch number: 10, Losses: {'trf_textcat': 1.094165168069594e-05}\n",
            "Batch number: 11, Losses: {'trf_textcat': 1.1931138601539715e-05}\n",
            "Batch number: 12, Losses: {'trf_textcat': 1.2919623372908973e-05}\n",
            "Batch number: 13, Losses: {'trf_textcat': 1.3908800156059442e-05}\n",
            "Batch number: 14, Losses: {'trf_textcat': 1.4898373365213047e-05}\n",
            "Batch number: 15, Losses: {'trf_textcat': 1.5884068943705643e-05}\n",
            "Batch number: 16, Losses: {'trf_textcat': 1.687300732555741e-05}\n",
            "Batch number: 17, Losses: {'trf_textcat': 1.7861416495179583e-05}\n",
            "Batch number: 18, Losses: {'trf_textcat': 1.8850238916456874e-05}\n",
            "Batch number: 19, Losses: {'trf_textcat': 1.9838836692542827e-05}\n",
            "Batch number: 20, Losses: {'trf_textcat': 2.0826838408538606e-05}\n",
            "Batch number: 21, Losses: {'trf_textcat': 2.1814926526531053e-05}\n",
            "Batch number: 22, Losses: {'trf_textcat': 2.2804214836469328e-05}\n",
            "Batch number: 23, Losses: {'trf_textcat': 2.3792921524545818e-05}\n",
            "Batch number: 24, Losses: {'trf_textcat': 2.4781090132819372e-05}\n",
            "Batch number: 25, Losses: {'trf_textcat': 2.5770396632651682e-05}\n",
            "Batch number: 26, Losses: {'trf_textcat': 2.6758958028949564e-05}\n",
            "Batch number: 27, Losses: {'trf_textcat': 2.7746749992729747e-05}\n",
            "Batch number: 28, Losses: {'trf_textcat': 2.8735023647641356e-05}\n",
            "Batch number: 29, Losses: {'trf_textcat': 2.9721835176133027e-05}\n",
            "Batch number: 30, Losses: {'trf_textcat': 3.071127412113128e-05}\n",
            "Batch number: 31, Losses: {'trf_textcat': 3.169837225414085e-05}\n",
            "Batch number: 32, Losses: {'trf_textcat': 3.268741465944913e-05}\n",
            "Batch number: 33, Losses: {'trf_textcat': 3.3676253906378406e-05}\n",
            "Batch number: 34, Losses: {'trf_textcat': 3.4664608392631635e-05}\n",
            "Batch number: 35, Losses: {'trf_textcat': 3.5654355542646954e-05}\n",
            "Batch number: 36, Losses: {'trf_textcat': 3.664318035134784e-05}\n",
            "Batch number: 37, Losses: {'trf_textcat': 3.76316919528108e-05}\n",
            "Batch number: 38, Losses: {'trf_textcat': 3.862014511923917e-05}\n",
            "Batch number: 39, Losses: {'trf_textcat': 3.9609304053556116e-05}\n",
            "Batch number: 40, Losses: {'trf_textcat': nan}\n",
            "Batch number: 41, Losses: {'trf_textcat': nan}\n",
            "Batch number: 42, Losses: {'trf_textcat': nan}\n",
            "Batch number: 43, Losses: {'trf_textcat': nan}\n",
            "Batch number: 44, Losses: {'trf_textcat': nan}\n",
            "Batch number: 45, Losses: {'trf_textcat': nan}\n",
            "Batch number: 46, Losses: {'trf_textcat': nan}\n",
            "Batch number: 47, Losses: {'trf_textcat': nan}\n",
            "Batch number: 48, Losses: {'trf_textcat': nan}\n",
            "Batch number: 49, Losses: {'trf_textcat': nan}\n",
            "Batch number: 50, Losses: {'trf_textcat': nan}\n",
            "Batch number: 51, Losses: {'trf_textcat': nan}\n",
            "Batch number: 52, Losses: {'trf_textcat': nan}\n",
            "Batch number: 53, Losses: {'trf_textcat': nan}\n",
            "Batch number: 54, Losses: {'trf_textcat': nan}\n",
            "Batch number: 55, Losses: {'trf_textcat': nan}\n",
            "Batch number: 56, Losses: {'trf_textcat': nan}\n",
            "Batch number: 57, Losses: {'trf_textcat': nan}\n",
            "Batch number: 58, Losses: {'trf_textcat': nan}\n",
            "Batch number: 59, Losses: {'trf_textcat': nan}\n",
            "Batch number: 60, Losses: {'trf_textcat': nan}\n",
            "Batch number: 61, Losses: {'trf_textcat': nan}\n",
            "Batch number: 62, Losses: {'trf_textcat': nan}\n",
            "Batch number: 63, Losses: {'trf_textcat': nan}\n",
            "Batch number: 64, Losses: {'trf_textcat': nan}\n",
            "Batch number: 65, Losses: {'trf_textcat': nan}\n",
            "Batch number: 66, Losses: {'trf_textcat': nan}\n",
            "Batch number: 67, Losses: {'trf_textcat': nan}\n",
            "Batch number: 68, Losses: {'trf_textcat': nan}\n",
            "Batch number: 69, Losses: {'trf_textcat': nan}\n",
            "Batch number: 70, Losses: {'trf_textcat': nan}\n",
            "Batch number: 71, Losses: {'trf_textcat': nan}\n",
            "Batch number: 72, Losses: {'trf_textcat': nan}\n",
            "Batch number: 73, Losses: {'trf_textcat': nan}\n",
            "Batch number: 74, Losses: {'trf_textcat': nan}\n",
            "Batch number: 75, Losses: {'trf_textcat': nan}\n",
            "Batch number: 76, Losses: {'trf_textcat': nan}\n",
            "Batch number: 77, Losses: {'trf_textcat': nan}\n",
            "Batch number: 78, Losses: {'trf_textcat': nan}\n",
            "Batch number: 79, Losses: {'trf_textcat': nan}\n",
            "Batch number: 80, Losses: {'trf_textcat': nan}\n",
            "Batch number: 81, Losses: {'trf_textcat': nan}\n",
            "Batch number: 82, Losses: {'trf_textcat': nan}\n",
            "Batch number: 83, Losses: {'trf_textcat': nan}\n",
            "Batch number: 84, Losses: {'trf_textcat': nan}\n",
            "Batch number: 85, Losses: {'trf_textcat': nan}\n",
            "Batch number: 86, Losses: {'trf_textcat': nan}\n",
            "Batch number: 87, Losses: {'trf_textcat': nan}\n",
            "Batch number: 88, Losses: {'trf_textcat': nan}\n",
            "Batch number: 89, Losses: {'trf_textcat': nan}\n",
            "Batch number: 90, Losses: {'trf_textcat': nan}\n",
            "Batch number: 91, Losses: {'trf_textcat': nan}\n",
            "Batch number: 92, Losses: {'trf_textcat': nan}\n",
            "Batch number: 93, Losses: {'trf_textcat': nan}\n",
            "Batch number: 94, Losses: {'trf_textcat': nan}\n",
            "Batch number: 95, Losses: {'trf_textcat': nan}\n",
            "Batch number: 96, Losses: {'trf_textcat': nan}\n",
            "Batch number: 97, Losses: {'trf_textcat': nan}\n",
            "Batch number: 98, Losses: {'trf_textcat': nan}\n",
            "Batch number: 99, Losses: {'trf_textcat': nan}\n",
            "Batch number: 100, Losses: {'trf_textcat': nan}\n",
            "Batch number: 101, Losses: {'trf_textcat': nan}\n",
            "Batch number: 102, Losses: {'trf_textcat': nan}\n",
            "Batch number: 103, Losses: {'trf_textcat': nan}\n",
            "Batch number: 104, Losses: {'trf_textcat': nan}\n",
            "Batch number: 105, Losses: {'trf_textcat': nan}\n",
            "Batch number: 106, Losses: {'trf_textcat': nan}\n",
            "Batch number: 107, Losses: {'trf_textcat': nan}\n",
            "Batch number: 108, Losses: {'trf_textcat': nan}\n",
            "Batch number: 109, Losses: {'trf_textcat': nan}\n",
            "Batch number: 110, Losses: {'trf_textcat': nan}\n",
            "Batch number: 111, Losses: {'trf_textcat': nan}\n",
            "Batch number: 112, Losses: {'trf_textcat': nan}\n",
            "Batch number: 113, Losses: {'trf_textcat': nan}\n",
            "Batch number: 114, Losses: {'trf_textcat': nan}\n",
            "Batch number: 115, Losses: {'trf_textcat': nan}\n",
            "Batch number: 116, Losses: {'trf_textcat': nan}\n",
            "Batch number: 117, Losses: {'trf_textcat': nan}\n",
            "Batch number: 118, Losses: {'trf_textcat': nan}\n",
            "Batch number: 119, Losses: {'trf_textcat': nan}\n",
            "Batch number: 120, Losses: {'trf_textcat': nan}\n",
            "Batch number: 121, Losses: {'trf_textcat': nan}\n",
            "Batch number: 122, Losses: {'trf_textcat': nan}\n",
            "Batch number: 123, Losses: {'trf_textcat': nan}\n",
            "Batch number: 124, Losses: {'trf_textcat': nan}\n",
            "Batch number: 125, Losses: {'trf_textcat': nan}\n",
            "Batch number: 126, Losses: {'trf_textcat': nan}\n",
            "Batch number: 127, Losses: {'trf_textcat': nan}\n",
            "Batch number: 128, Losses: {'trf_textcat': nan}\n",
            "Batch number: 129, Losses: {'trf_textcat': nan}\n",
            "Batch number: 130, Losses: {'trf_textcat': nan}\n",
            "Batch number: 131, Losses: {'trf_textcat': nan}\n",
            "Batch number: 132, Losses: {'trf_textcat': nan}\n",
            "Batch number: 133, Losses: {'trf_textcat': nan}\n",
            "Batch number: 134, Losses: {'trf_textcat': nan}\n",
            "Batch number: 135, Losses: {'trf_textcat': nan}\n",
            "Batch number: 136, Losses: {'trf_textcat': nan}\n",
            "Batch number: 137, Losses: {'trf_textcat': nan}\n",
            "Batch number: 138, Losses: {'trf_textcat': nan}\n",
            "Batch number: 139, Losses: {'trf_textcat': nan}\n",
            "Batch number: 140, Losses: {'trf_textcat': nan}\n",
            "Batch number: 141, Losses: {'trf_textcat': nan}\n",
            "Batch number: 142, Losses: {'trf_textcat': nan}\n"
          ],
          "name": "stdout"
        }
      ]
    },
    {
      "cell_type": "code",
      "metadata": {
        "id": "_yf9OvL_hea-",
        "colab_type": "code",
        "colab": {}
      },
      "source": [
        "a = nlp(\"RANDOM TEXT\")\n",
        "a.cats"
      ],
      "execution_count": 0,
      "outputs": []
    },
    {
      "cell_type": "code",
      "metadata": {
        "id": "63Y6ESVLJrZf",
        "colab_type": "code",
        "colab": {}
      },
      "source": [
        "from spacy_transformers import TransformersLanguage, TransformersWordPiecer, TransformersTok2Vec\n",
        "\n",
        "name = \"bert-base-uncased\"\n",
        "nlp = TransformersLanguage(trf_name=name, meta={\"lang\": \"en\"})\n",
        "nlp.add_pipe(nlp.create_pipe(\"sentencizer\"))\n",
        "nlp.add_pipe(TransformersWordPiecer.from_pretrained(nlp.vocab, name))\n",
        "nlp.add_pipe(TransformersTok2Vec.from_pretrained(nlp.vocab, name))\n",
        "print(nlp.pipe_names)  # ['sentencizer', 'trf_wordpiecer', 'trf_tok2vec']"
      ],
      "execution_count": 0,
      "outputs": []
    },
    {
      "cell_type": "code",
      "metadata": {
        "id": "EW37K6y5Kbrg",
        "colab_type": "code",
        "colab": {}
      },
      "source": [
        "textnews = nlp.create_pipe(\"trf_textcat\", config={\"exclusive_classes\": True})\n",
        "for label in list_of_sites:\n",
        "    textnews.add_label(label)\n",
        "nlp.add_pipe(textnews)"
      ],
      "execution_count": 0,
      "outputs": []
    }
  ]
}