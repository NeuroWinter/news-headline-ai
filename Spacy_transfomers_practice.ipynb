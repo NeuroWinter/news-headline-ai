{
  "nbformat": 4,
  "nbformat_minor": 0,
  "metadata": {
    "colab": {
      "name": "Spacy-transfomers-practice.ipynb",
      "provenance": [],
      "collapsed_sections": [],
      "machine_shape": "hm",
      "include_colab_link": true
    },
    "kernelspec": {
      "name": "python3",
      "display_name": "Python 3"
    },
    "accelerator": "GPU"
  },
  "cells": [
    {
      "cell_type": "markdown",
      "metadata": {
        "id": "view-in-github",
        "colab_type": "text"
      },
      "source": [
        "<a href=\"https://colab.research.google.com/github/NeuroWinter/news-headline-ai/blob/master/Spacy_transfomers_practice.ipynb\" target=\"_parent\"><img src=\"https://colab.research.google.com/assets/colab-badge.svg\" alt=\"Open In Colab\"/></a>"
      ]
    },
    {
      "cell_type": "code",
      "metadata": {
        "id": "rOucPcydcmNO",
        "colab_type": "code",
        "outputId": "917e7788-353d-4334-aade-c5a0144986e4",
        "colab": {
          "base_uri": "https://localhost:8080/",
          "height": 1000
        }
      },
      "source": [
        "!pip install -U spacy[cuda100]\n",
        "!pip install spacy-transformers\n",
        "!python3 -m spacy download en_trf_distilbertbaseuncased_lg\n",
        "!pip install torch"
      ],
      "execution_count": 4,
      "outputs": [
        {
          "output_type": "stream",
          "text": [
            "Requirement already up-to-date: spacy[cuda100] in /usr/local/lib/python3.6/dist-packages (2.2.3)\n",
            "Requirement already satisfied, skipping upgrade: srsly<1.1.0,>=0.1.0 in /usr/local/lib/python3.6/dist-packages (from spacy[cuda100]) (1.0.1)\n",
            "Requirement already satisfied, skipping upgrade: cymem<2.1.0,>=2.0.2 in /usr/local/lib/python3.6/dist-packages (from spacy[cuda100]) (2.0.3)\n",
            "Requirement already satisfied, skipping upgrade: blis<0.5.0,>=0.4.0 in /usr/local/lib/python3.6/dist-packages (from spacy[cuda100]) (0.4.1)\n",
            "Requirement already satisfied, skipping upgrade: numpy>=1.15.0 in /usr/local/lib/python3.6/dist-packages (from spacy[cuda100]) (1.17.5)\n",
            "Requirement already satisfied, skipping upgrade: requests<3.0.0,>=2.13.0 in /usr/local/lib/python3.6/dist-packages (from spacy[cuda100]) (2.21.0)\n",
            "Requirement already satisfied, skipping upgrade: preshed<3.1.0,>=3.0.2 in /usr/local/lib/python3.6/dist-packages (from spacy[cuda100]) (3.0.2)\n",
            "Requirement already satisfied, skipping upgrade: thinc<7.4.0,>=7.3.0 in /usr/local/lib/python3.6/dist-packages (from spacy[cuda100]) (7.3.1)\n",
            "Requirement already satisfied, skipping upgrade: plac<1.2.0,>=0.9.6 in /usr/local/lib/python3.6/dist-packages (from spacy[cuda100]) (0.9.6)\n",
            "Requirement already satisfied, skipping upgrade: wasabi<1.1.0,>=0.4.0 in /usr/local/lib/python3.6/dist-packages (from spacy[cuda100]) (0.6.0)\n",
            "Requirement already satisfied, skipping upgrade: murmurhash<1.1.0,>=0.28.0 in /usr/local/lib/python3.6/dist-packages (from spacy[cuda100]) (1.0.2)\n",
            "Requirement already satisfied, skipping upgrade: setuptools in /usr/local/lib/python3.6/dist-packages (from spacy[cuda100]) (42.0.2)\n",
            "Requirement already satisfied, skipping upgrade: catalogue<1.1.0,>=0.0.7 in /usr/local/lib/python3.6/dist-packages (from spacy[cuda100]) (1.0.0)\n",
            "Collecting cupy-cuda100>=5.0.0b4; extra == \"cuda100\"\n",
            "\u001b[?25l  Downloading https://files.pythonhosted.org/packages/84/3a/bf66277c1230a9cf3c26afa5b5fabc9fceb2e63f914cf5f4d59d574ac968/cupy_cuda100-7.0.0-cp36-cp36m-manylinux1_x86_64.whl (382.9MB)\n",
            "\u001b[K     |████████████████████████████████| 382.9MB 42kB/s \n",
            "\u001b[?25hRequirement already satisfied, skipping upgrade: certifi>=2017.4.17 in /usr/local/lib/python3.6/dist-packages (from requests<3.0.0,>=2.13.0->spacy[cuda100]) (2019.11.28)\n",
            "Requirement already satisfied, skipping upgrade: idna<2.9,>=2.5 in /usr/local/lib/python3.6/dist-packages (from requests<3.0.0,>=2.13.0->spacy[cuda100]) (2.8)\n",
            "Requirement already satisfied, skipping upgrade: urllib3<1.25,>=1.21.1 in /usr/local/lib/python3.6/dist-packages (from requests<3.0.0,>=2.13.0->spacy[cuda100]) (1.24.3)\n",
            "Requirement already satisfied, skipping upgrade: chardet<3.1.0,>=3.0.2 in /usr/local/lib/python3.6/dist-packages (from requests<3.0.0,>=2.13.0->spacy[cuda100]) (3.0.4)\n",
            "Requirement already satisfied, skipping upgrade: tqdm<5.0.0,>=4.10.0 in /usr/local/lib/python3.6/dist-packages (from thinc<7.4.0,>=7.3.0->spacy[cuda100]) (4.28.1)\n",
            "Requirement already satisfied, skipping upgrade: importlib-metadata>=0.20; python_version < \"3.8\" in /usr/local/lib/python3.6/dist-packages (from catalogue<1.1.0,>=0.0.7->spacy[cuda100]) (1.3.0)\n",
            "Requirement already satisfied, skipping upgrade: fastrlock>=0.3 in /usr/local/lib/python3.6/dist-packages (from cupy-cuda100>=5.0.0b4; extra == \"cuda100\"->spacy[cuda100]) (0.4)\n",
            "Requirement already satisfied, skipping upgrade: six>=1.9.0 in /usr/local/lib/python3.6/dist-packages (from cupy-cuda100>=5.0.0b4; extra == \"cuda100\"->spacy[cuda100]) (1.12.0)\n",
            "Requirement already satisfied, skipping upgrade: zipp>=0.5 in /usr/local/lib/python3.6/dist-packages (from importlib-metadata>=0.20; python_version < \"3.8\"->catalogue<1.1.0,>=0.0.7->spacy[cuda100]) (0.6.0)\n",
            "Requirement already satisfied, skipping upgrade: more-itertools in /usr/local/lib/python3.6/dist-packages (from zipp>=0.5->importlib-metadata>=0.20; python_version < \"3.8\"->catalogue<1.1.0,>=0.0.7->spacy[cuda100]) (8.0.2)\n",
            "Installing collected packages: cupy-cuda100\n",
            "Successfully installed cupy-cuda100-7.0.0\n"
          ],
          "name": "stdout"
        },
        {
          "output_type": "display_data",
          "data": {
            "application/vnd.colab-display-data+json": {
              "pip_warning": {
                "packages": [
                  "cupy",
                  "cupyx"
                ]
              }
            }
          },
          "metadata": {
            "tags": []
          }
        },
        {
          "output_type": "stream",
          "text": [
            "Requirement already satisfied: spacy-transformers in /usr/local/lib/python3.6/dist-packages (0.5.1)\n",
            "Requirement already satisfied: torch>=1.0.0 in /usr/local/lib/python3.6/dist-packages (from spacy-transformers) (1.3.1)\n",
            "Requirement already satisfied: torchcontrib<0.1.0,>=0.0.2 in /usr/local/lib/python3.6/dist-packages (from spacy-transformers) (0.0.2)\n",
            "Requirement already satisfied: ftfy<6.0.0,>=5.0.0 in /usr/local/lib/python3.6/dist-packages (from spacy-transformers) (5.6)\n",
            "Requirement already satisfied: importlib-metadata>=0.20; python_version < \"3.8\" in /usr/local/lib/python3.6/dist-packages (from spacy-transformers) (1.3.0)\n",
            "Requirement already satisfied: srsly<1.1.0,>=0.0.7 in /usr/local/lib/python3.6/dist-packages (from spacy-transformers) (1.0.1)\n",
            "Requirement already satisfied: dataclasses<0.7,>=0.6; python_version < \"3.7\" in /usr/local/lib/python3.6/dist-packages (from spacy-transformers) (0.6)\n",
            "Requirement already satisfied: spacy<2.3.0,>=2.2.1 in /usr/local/lib/python3.6/dist-packages (from spacy-transformers) (2.2.3)\n",
            "Requirement already satisfied: transformers<2.1.0,>=2.0.0 in /usr/local/lib/python3.6/dist-packages (from spacy-transformers) (2.0.0)\n",
            "Requirement already satisfied: numpy in /usr/local/lib/python3.6/dist-packages (from torch>=1.0.0->spacy-transformers) (1.17.5)\n",
            "Requirement already satisfied: wcwidth in /usr/local/lib/python3.6/dist-packages (from ftfy<6.0.0,>=5.0.0->spacy-transformers) (0.1.8)\n",
            "Requirement already satisfied: zipp>=0.5 in /usr/local/lib/python3.6/dist-packages (from importlib-metadata>=0.20; python_version < \"3.8\"->spacy-transformers) (0.6.0)\n",
            "Requirement already satisfied: catalogue<1.1.0,>=0.0.7 in /usr/local/lib/python3.6/dist-packages (from spacy<2.3.0,>=2.2.1->spacy-transformers) (1.0.0)\n",
            "Requirement already satisfied: plac<1.2.0,>=0.9.6 in /usr/local/lib/python3.6/dist-packages (from spacy<2.3.0,>=2.2.1->spacy-transformers) (0.9.6)\n",
            "Requirement already satisfied: blis<0.5.0,>=0.4.0 in /usr/local/lib/python3.6/dist-packages (from spacy<2.3.0,>=2.2.1->spacy-transformers) (0.4.1)\n",
            "Requirement already satisfied: murmurhash<1.1.0,>=0.28.0 in /usr/local/lib/python3.6/dist-packages (from spacy<2.3.0,>=2.2.1->spacy-transformers) (1.0.2)\n",
            "Requirement already satisfied: preshed<3.1.0,>=3.0.2 in /usr/local/lib/python3.6/dist-packages (from spacy<2.3.0,>=2.2.1->spacy-transformers) (3.0.2)\n",
            "Requirement already satisfied: requests<3.0.0,>=2.13.0 in /usr/local/lib/python3.6/dist-packages (from spacy<2.3.0,>=2.2.1->spacy-transformers) (2.21.0)\n",
            "Requirement already satisfied: setuptools in /usr/local/lib/python3.6/dist-packages (from spacy<2.3.0,>=2.2.1->spacy-transformers) (42.0.2)\n",
            "Requirement already satisfied: cymem<2.1.0,>=2.0.2 in /usr/local/lib/python3.6/dist-packages (from spacy<2.3.0,>=2.2.1->spacy-transformers) (2.0.3)\n",
            "Requirement already satisfied: wasabi<1.1.0,>=0.4.0 in /usr/local/lib/python3.6/dist-packages (from spacy<2.3.0,>=2.2.1->spacy-transformers) (0.6.0)\n",
            "Requirement already satisfied: thinc<7.4.0,>=7.3.0 in /usr/local/lib/python3.6/dist-packages (from spacy<2.3.0,>=2.2.1->spacy-transformers) (7.3.1)\n",
            "Requirement already satisfied: regex in /usr/local/lib/python3.6/dist-packages (from transformers<2.1.0,>=2.0.0->spacy-transformers) (2019.12.20)\n",
            "Requirement already satisfied: sentencepiece in /usr/local/lib/python3.6/dist-packages (from transformers<2.1.0,>=2.0.0->spacy-transformers) (0.1.85)\n",
            "Requirement already satisfied: sacremoses in /usr/local/lib/python3.6/dist-packages (from transformers<2.1.0,>=2.0.0->spacy-transformers) (0.0.38)\n",
            "Requirement already satisfied: boto3 in /usr/local/lib/python3.6/dist-packages (from transformers<2.1.0,>=2.0.0->spacy-transformers) (1.10.47)\n",
            "Requirement already satisfied: tqdm in /usr/local/lib/python3.6/dist-packages (from transformers<2.1.0,>=2.0.0->spacy-transformers) (4.28.1)\n",
            "Requirement already satisfied: more-itertools in /usr/local/lib/python3.6/dist-packages (from zipp>=0.5->importlib-metadata>=0.20; python_version < \"3.8\"->spacy-transformers) (8.0.2)\n",
            "Requirement already satisfied: chardet<3.1.0,>=3.0.2 in /usr/local/lib/python3.6/dist-packages (from requests<3.0.0,>=2.13.0->spacy<2.3.0,>=2.2.1->spacy-transformers) (3.0.4)\n",
            "Requirement already satisfied: idna<2.9,>=2.5 in /usr/local/lib/python3.6/dist-packages (from requests<3.0.0,>=2.13.0->spacy<2.3.0,>=2.2.1->spacy-transformers) (2.8)\n",
            "Requirement already satisfied: certifi>=2017.4.17 in /usr/local/lib/python3.6/dist-packages (from requests<3.0.0,>=2.13.0->spacy<2.3.0,>=2.2.1->spacy-transformers) (2019.11.28)\n",
            "Requirement already satisfied: urllib3<1.25,>=1.21.1 in /usr/local/lib/python3.6/dist-packages (from requests<3.0.0,>=2.13.0->spacy<2.3.0,>=2.2.1->spacy-transformers) (1.24.3)\n",
            "Requirement already satisfied: click in /usr/local/lib/python3.6/dist-packages (from sacremoses->transformers<2.1.0,>=2.0.0->spacy-transformers) (7.0)\n",
            "Requirement already satisfied: joblib in /usr/local/lib/python3.6/dist-packages (from sacremoses->transformers<2.1.0,>=2.0.0->spacy-transformers) (0.14.1)\n",
            "Requirement already satisfied: six in /usr/local/lib/python3.6/dist-packages (from sacremoses->transformers<2.1.0,>=2.0.0->spacy-transformers) (1.12.0)\n",
            "Requirement already satisfied: botocore<1.14.0,>=1.13.47 in /usr/local/lib/python3.6/dist-packages (from boto3->transformers<2.1.0,>=2.0.0->spacy-transformers) (1.13.47)\n",
            "Requirement already satisfied: jmespath<1.0.0,>=0.7.1 in /usr/local/lib/python3.6/dist-packages (from boto3->transformers<2.1.0,>=2.0.0->spacy-transformers) (0.9.4)\n",
            "Requirement already satisfied: s3transfer<0.3.0,>=0.2.0 in /usr/local/lib/python3.6/dist-packages (from boto3->transformers<2.1.0,>=2.0.0->spacy-transformers) (0.2.1)\n",
            "Requirement already satisfied: python-dateutil<3.0.0,>=2.1; python_version >= \"2.7\" in /usr/local/lib/python3.6/dist-packages (from botocore<1.14.0,>=1.13.47->boto3->transformers<2.1.0,>=2.0.0->spacy-transformers) (2.6.1)\n",
            "Requirement already satisfied: docutils<0.16,>=0.10 in /usr/local/lib/python3.6/dist-packages (from botocore<1.14.0,>=1.13.47->boto3->transformers<2.1.0,>=2.0.0->spacy-transformers) (0.15.2)\n",
            "Requirement already satisfied: en_trf_distilbertbaseuncased_lg==2.2.0 from https://github.com/explosion/spacy-models/releases/download/en_trf_distilbertbaseuncased_lg-2.2.0/en_trf_distilbertbaseuncased_lg-2.2.0.tar.gz#egg=en_trf_distilbertbaseuncased_lg==2.2.0 in /usr/local/lib/python3.6/dist-packages (2.2.0)\n",
            "Requirement already satisfied: spacy>=2.2.1 in /usr/local/lib/python3.6/dist-packages (from en_trf_distilbertbaseuncased_lg==2.2.0) (2.2.3)\n",
            "Requirement already satisfied: spacy-transformers>=0.5.0 in /usr/local/lib/python3.6/dist-packages (from en_trf_distilbertbaseuncased_lg==2.2.0) (0.5.1)\n",
            "Requirement already satisfied: wasabi<1.1.0,>=0.4.0 in /usr/local/lib/python3.6/dist-packages (from spacy>=2.2.1->en_trf_distilbertbaseuncased_lg==2.2.0) (0.6.0)\n",
            "Requirement already satisfied: catalogue<1.1.0,>=0.0.7 in /usr/local/lib/python3.6/dist-packages (from spacy>=2.2.1->en_trf_distilbertbaseuncased_lg==2.2.0) (1.0.0)\n",
            "Requirement already satisfied: murmurhash<1.1.0,>=0.28.0 in /usr/local/lib/python3.6/dist-packages (from spacy>=2.2.1->en_trf_distilbertbaseuncased_lg==2.2.0) (1.0.2)\n",
            "Requirement already satisfied: numpy>=1.15.0 in /usr/local/lib/python3.6/dist-packages (from spacy>=2.2.1->en_trf_distilbertbaseuncased_lg==2.2.0) (1.17.5)\n",
            "Requirement already satisfied: cymem<2.1.0,>=2.0.2 in /usr/local/lib/python3.6/dist-packages (from spacy>=2.2.1->en_trf_distilbertbaseuncased_lg==2.2.0) (2.0.3)\n",
            "Requirement already satisfied: setuptools in /usr/local/lib/python3.6/dist-packages (from spacy>=2.2.1->en_trf_distilbertbaseuncased_lg==2.2.0) (42.0.2)\n",
            "Requirement already satisfied: blis<0.5.0,>=0.4.0 in /usr/local/lib/python3.6/dist-packages (from spacy>=2.2.1->en_trf_distilbertbaseuncased_lg==2.2.0) (0.4.1)\n",
            "Requirement already satisfied: preshed<3.1.0,>=3.0.2 in /usr/local/lib/python3.6/dist-packages (from spacy>=2.2.1->en_trf_distilbertbaseuncased_lg==2.2.0) (3.0.2)\n",
            "Requirement already satisfied: requests<3.0.0,>=2.13.0 in /usr/local/lib/python3.6/dist-packages (from spacy>=2.2.1->en_trf_distilbertbaseuncased_lg==2.2.0) (2.21.0)\n",
            "Requirement already satisfied: plac<1.2.0,>=0.9.6 in /usr/local/lib/python3.6/dist-packages (from spacy>=2.2.1->en_trf_distilbertbaseuncased_lg==2.2.0) (0.9.6)\n",
            "Requirement already satisfied: thinc<7.4.0,>=7.3.0 in /usr/local/lib/python3.6/dist-packages (from spacy>=2.2.1->en_trf_distilbertbaseuncased_lg==2.2.0) (7.3.1)\n",
            "Requirement already satisfied: srsly<1.1.0,>=0.1.0 in /usr/local/lib/python3.6/dist-packages (from spacy>=2.2.1->en_trf_distilbertbaseuncased_lg==2.2.0) (1.0.1)\n",
            "Requirement already satisfied: torchcontrib<0.1.0,>=0.0.2 in /usr/local/lib/python3.6/dist-packages (from spacy-transformers>=0.5.0->en_trf_distilbertbaseuncased_lg==2.2.0) (0.0.2)\n",
            "Requirement already satisfied: ftfy<6.0.0,>=5.0.0 in /usr/local/lib/python3.6/dist-packages (from spacy-transformers>=0.5.0->en_trf_distilbertbaseuncased_lg==2.2.0) (5.6)\n",
            "Requirement already satisfied: torch>=1.0.0 in /usr/local/lib/python3.6/dist-packages (from spacy-transformers>=0.5.0->en_trf_distilbertbaseuncased_lg==2.2.0) (1.3.1)\n",
            "Requirement already satisfied: transformers<2.1.0,>=2.0.0 in /usr/local/lib/python3.6/dist-packages (from spacy-transformers>=0.5.0->en_trf_distilbertbaseuncased_lg==2.2.0) (2.0.0)\n",
            "Requirement already satisfied: importlib-metadata>=0.20; python_version < \"3.8\" in /usr/local/lib/python3.6/dist-packages (from spacy-transformers>=0.5.0->en_trf_distilbertbaseuncased_lg==2.2.0) (1.3.0)\n",
            "Requirement already satisfied: dataclasses<0.7,>=0.6; python_version < \"3.7\" in /usr/local/lib/python3.6/dist-packages (from spacy-transformers>=0.5.0->en_trf_distilbertbaseuncased_lg==2.2.0) (0.6)\n",
            "Requirement already satisfied: certifi>=2017.4.17 in /usr/local/lib/python3.6/dist-packages (from requests<3.0.0,>=2.13.0->spacy>=2.2.1->en_trf_distilbertbaseuncased_lg==2.2.0) (2019.11.28)\n",
            "Requirement already satisfied: urllib3<1.25,>=1.21.1 in /usr/local/lib/python3.6/dist-packages (from requests<3.0.0,>=2.13.0->spacy>=2.2.1->en_trf_distilbertbaseuncased_lg==2.2.0) (1.24.3)\n",
            "Requirement already satisfied: idna<2.9,>=2.5 in /usr/local/lib/python3.6/dist-packages (from requests<3.0.0,>=2.13.0->spacy>=2.2.1->en_trf_distilbertbaseuncased_lg==2.2.0) (2.8)\n",
            "Requirement already satisfied: chardet<3.1.0,>=3.0.2 in /usr/local/lib/python3.6/dist-packages (from requests<3.0.0,>=2.13.0->spacy>=2.2.1->en_trf_distilbertbaseuncased_lg==2.2.0) (3.0.4)\n",
            "Requirement already satisfied: tqdm<5.0.0,>=4.10.0 in /usr/local/lib/python3.6/dist-packages (from thinc<7.4.0,>=7.3.0->spacy>=2.2.1->en_trf_distilbertbaseuncased_lg==2.2.0) (4.28.1)\n",
            "Requirement already satisfied: wcwidth in /usr/local/lib/python3.6/dist-packages (from ftfy<6.0.0,>=5.0.0->spacy-transformers>=0.5.0->en_trf_distilbertbaseuncased_lg==2.2.0) (0.1.8)\n",
            "Requirement already satisfied: regex in /usr/local/lib/python3.6/dist-packages (from transformers<2.1.0,>=2.0.0->spacy-transformers>=0.5.0->en_trf_distilbertbaseuncased_lg==2.2.0) (2019.12.20)\n",
            "Requirement already satisfied: sacremoses in /usr/local/lib/python3.6/dist-packages (from transformers<2.1.0,>=2.0.0->spacy-transformers>=0.5.0->en_trf_distilbertbaseuncased_lg==2.2.0) (0.0.38)\n",
            "Requirement already satisfied: boto3 in /usr/local/lib/python3.6/dist-packages (from transformers<2.1.0,>=2.0.0->spacy-transformers>=0.5.0->en_trf_distilbertbaseuncased_lg==2.2.0) (1.10.47)\n",
            "Requirement already satisfied: sentencepiece in /usr/local/lib/python3.6/dist-packages (from transformers<2.1.0,>=2.0.0->spacy-transformers>=0.5.0->en_trf_distilbertbaseuncased_lg==2.2.0) (0.1.85)\n",
            "Requirement already satisfied: zipp>=0.5 in /usr/local/lib/python3.6/dist-packages (from importlib-metadata>=0.20; python_version < \"3.8\"->spacy-transformers>=0.5.0->en_trf_distilbertbaseuncased_lg==2.2.0) (0.6.0)\n",
            "Requirement already satisfied: joblib in /usr/local/lib/python3.6/dist-packages (from sacremoses->transformers<2.1.0,>=2.0.0->spacy-transformers>=0.5.0->en_trf_distilbertbaseuncased_lg==2.2.0) (0.14.1)\n",
            "Requirement already satisfied: six in /usr/local/lib/python3.6/dist-packages (from sacremoses->transformers<2.1.0,>=2.0.0->spacy-transformers>=0.5.0->en_trf_distilbertbaseuncased_lg==2.2.0) (1.12.0)\n",
            "Requirement already satisfied: click in /usr/local/lib/python3.6/dist-packages (from sacremoses->transformers<2.1.0,>=2.0.0->spacy-transformers>=0.5.0->en_trf_distilbertbaseuncased_lg==2.2.0) (7.0)\n",
            "Requirement already satisfied: s3transfer<0.3.0,>=0.2.0 in /usr/local/lib/python3.6/dist-packages (from boto3->transformers<2.1.0,>=2.0.0->spacy-transformers>=0.5.0->en_trf_distilbertbaseuncased_lg==2.2.0) (0.2.1)\n",
            "Requirement already satisfied: jmespath<1.0.0,>=0.7.1 in /usr/local/lib/python3.6/dist-packages (from boto3->transformers<2.1.0,>=2.0.0->spacy-transformers>=0.5.0->en_trf_distilbertbaseuncased_lg==2.2.0) (0.9.4)\n",
            "Requirement already satisfied: botocore<1.14.0,>=1.13.47 in /usr/local/lib/python3.6/dist-packages (from boto3->transformers<2.1.0,>=2.0.0->spacy-transformers>=0.5.0->en_trf_distilbertbaseuncased_lg==2.2.0) (1.13.47)\n",
            "Requirement already satisfied: more-itertools in /usr/local/lib/python3.6/dist-packages (from zipp>=0.5->importlib-metadata>=0.20; python_version < \"3.8\"->spacy-transformers>=0.5.0->en_trf_distilbertbaseuncased_lg==2.2.0) (8.0.2)\n",
            "Requirement already satisfied: docutils<0.16,>=0.10 in /usr/local/lib/python3.6/dist-packages (from botocore<1.14.0,>=1.13.47->boto3->transformers<2.1.0,>=2.0.0->spacy-transformers>=0.5.0->en_trf_distilbertbaseuncased_lg==2.2.0) (0.15.2)\n",
            "Requirement already satisfied: python-dateutil<3.0.0,>=2.1; python_version >= \"2.7\" in /usr/local/lib/python3.6/dist-packages (from botocore<1.14.0,>=1.13.47->boto3->transformers<2.1.0,>=2.0.0->spacy-transformers>=0.5.0->en_trf_distilbertbaseuncased_lg==2.2.0) (2.6.1)\n",
            "\u001b[38;5;2m✔ Download and installation successful\u001b[0m\n",
            "You can now load the model via spacy.load('en_trf_distilbertbaseuncased_lg')\n",
            "Requirement already satisfied: torch in /usr/local/lib/python3.6/dist-packages (1.3.1)\n",
            "Requirement already satisfied: numpy in /usr/local/lib/python3.6/dist-packages (from torch) (1.17.5)\n"
          ],
          "name": "stdout"
        }
      ]
    },
    {
      "cell_type": "markdown",
      "metadata": {
        "id": "vJHwnL15E3i1",
        "colab_type": "text"
      },
      "source": [
        ""
      ]
    },
    {
      "cell_type": "code",
      "metadata": {
        "id": "mUIq-IpqE-w4",
        "colab_type": "code",
        "outputId": "261c6af2-3669-407f-c719-e777ee99c8d9",
        "colab": {
          "base_uri": "https://localhost:8080/",
          "height": 54
        }
      },
      "source": [
        "import pandas as pd\n",
        "import csv\n",
        "\n",
        "# REMEBER TO UPLOAD THIS!\n",
        "input_file = 'news_headlines.csv'\n",
        "\n",
        "TRAIN_DATA = []\n",
        "df = pd.read_csv(input_file)\n",
        "\n",
        "list_of_sites = list(df['news_site'].unique())\n",
        "\n",
        "for row in df.iterrows():\n",
        "    row_headline       = row[1][2]\n",
        "    row_cat            = {site: 0.0 for site in list_of_sites}\n",
        "    row_cat[row[1][1]] += 1.0\n",
        "    TRAIN_DATA.append((row_headline.strip(), {\"cats\": row_cat}))\n",
        "print(TRAIN_DATA[0])\n",
        "df = None"
      ],
      "execution_count": 1,
      "outputs": [
        {
          "output_type": "stream",
          "text": [
            "('Experts say adapting to climate change can pay off manifold', {'cats': {'ABC - Tech': 1.0, 'ABC - Top Stories': 0.0, 'ABC - US': 0.0, 'ABC - World': 0.0, 'Al Jazeera': 0.0, 'AllAfrica News - Mozambique': 0.0, 'ARRL': 0.0, 'Ars Technica - all features': 0.0, 'Ars Technica - all news': 0.0, 'Axios - Business': 0.0, 'Axios - Energy': 0.0, 'Axios - Future': 0.0, 'Axios - Health Care': 0.0, 'Axios - Politics': 0.0, 'Axios - Science': 0.0, 'Axios - Technology': 0.0, 'Axios - Top': 0.0, 'Axios - World': 0.0, 'Bandladesh - bdnews24.com': 0.0, 'Bangkok Post - Lifestyle': 0.0, 'Bangkok Post - Most Recent': 0.0, 'Bangkok Post - Top Stories': 0.0, 'Bangkok Post - Travel': 0.0, 'BBC': 0.0, 'BBC - Africa': 0.0, 'BBC - Asia': 0.0, 'BBC - England': 0.0, 'BBC - Europe': 0.0, 'BBC - Latin America': 0.0, 'BBC - Middle East': 0.0, 'BBC - Northern Ireland': 0.0, 'BBC - Scotland': 0.0, 'BBC - UK': 0.0, 'BBC - US & Canada': 0.0, 'BBC - Wales': 0.0, 'BBC - World': 0.0, 'Breitbart \"News\"': 0.0, 'Buzzfeed - US News': 0.0, 'CanLii - Regulations': 0.0, 'CanLii - Supreme Court of Canada': 0.0, 'Caracas Chronicles - all': 0.0, 'CBC - Aboriginal': 0.0, 'CBC - Canada': 0.0, 'CBC - Politics': 0.0, 'CBC - Top Stories': 0.0, 'CBC - World': 0.0, 'CBS - 48 Hours': 0.0, 'CBS - 60 Minutes': 0.0, 'CBS - Politics': 0.0, 'CBS - Primary Source': 0.0, 'CBS - SciTech': 0.0, 'CBS - Strange': 0.0, 'CBS - TechTalk': 0.0, 'CBS - US': 0.0, 'CBS - World': 0.0, 'ChinaDaily - HK News': 0.0, 'ChinaDaily - News': 0.0, 'Civil.ge': 0.0, 'CNBC - Earnings Central': 0.0, 'CNBC - Economy': 0.0, 'CNBC - Energy': 0.0, 'CNBC - Investing': 0.0, 'CNBC - News': 0.0, 'CNBC - News Releases': 0.0, 'CNBC - Politics': 0.0, 'CNBC - Tech/Business': 0.0, 'CNET - News': 0.0, 'CNN - Politics': 0.0, 'CNN - Top Stories': 0.0, 'CTV News - Canada': 0.0, 'CTV News - Montreal Latest': 0.0, 'CTV News - Politics': 0.0, 'CTV News - Top Stories': 0.0, 'CTV News - World': 0.0, 'Daily Kos': 0.0, 'Daily Maverick': 0.0, 'Daily Post Nigeria - all': 0.0, 'Der Spiegel': 0.0, 'Der Spiegel - auf Deutsch': 0.0, 'Der Spiegel - Business News': 0.0, 'Der Spiegel - European News': 0.0, 'Der Spiegel - Germany News': 0.0, 'Der Spiegel - World News': 0.0, 'Der Spiegel - Zeitgeist': 0.0, 'Drudge Report': 0.0, 'DSL Reports': 0.0, 'Ed Felten - Freedom to Tinker': 0.0, 'EFF Updates': 0.0, 'en.publika.md': 0.0, 'eNCA - Top Stories': 0.0, 'EU vs DISINFORMATION': 0.0, 'FactCheck': 0.0, 'FactCheckNI': 0.0, 'Financial Times - Asia': 0.0, 'Financial Times - Europe': 0.0, 'Financial Times - India': 0.0, 'Financial Times - Middle East': 0.0, 'Financial Times - UK': 0.0, 'Financial Times - US': 0.0, 'FiveThirtyEight - All': 0.0, 'FiveThirtyEight - Nate Silver': 0.0, 'FoxNews': 0.0, 'FoxNews - Politics': 0.0, 'france24': 0.0, 'freenode': 0.0, 'Futura Sciences': 0.0, 'GlobalNews.ca': 0.0, 'GlobalNews.ca - Canada': 0.0, 'GlobalNews.ca - Politics': 0.0, 'GlobalNews.ca - World': 0.0, 'Goo2019-11-20 10:19:18\\tℹ \\tTopic for ##news is \"[world': 0.0, 'Google News - \"Catalonia\"': 0.0, 'Google News - \"Iran\"': 0.0, 'Google News - \"North Korea\"': 0.0, 'Google News - \"Palestine\"': 0.0, 'Google News - \"Palestinian\"': 0.0, 'Google News - \"Russia\"': 0.0, 'Google News - \"spain\"': 0.0, 'Google News - \"Syria\"': 0.0, 'Google News - \"Turkey\"': 0.0, 'Google News - Canada': 0.0, 'Google News - Canada - Top Stories': 0.0, 'Google News - Health': 0.0, 'Google News - India': 0.0, 'Google News - Ireland': 0.0, 'Google News - Israel': 0.0, 'Google News - Malaysia': 0.0, 'Google News - Pakistan': 0.0, 'Google News - Philippines': 0.0, 'Google News - Science': 0.0, 'Google News - Singapore': 0.0, 'Google News - South Africa': 0.0, 'Google News - Technology': 0.0, 'Google News - Uganda': 0.0, 'Google News - UK': 0.0, 'Google News - US': 0.0, 'Google News - US Business': 0.0, 'Google News - Venezuela': 0.0, 'Google News - World': 0.0, 'Google News - Zimbabwe': 0.0, 'Gossip Cop': 0.0, 'Haaretz - All Headlines': 0.0, 'Haaretz - Israel News': 0.0, 'Haaretz - WorldNews': 0.0, 'Hacker News': 0.0, 'Hoax Slayer': 0.0, 'HRC': 0.0, 'Huffington Post - Business News': 0.0, 'Huffington Post - Education News': 0.0, 'Huffington Post - Money': 0.0, 'Huffington Post - Politics': 0.0, 'Huffington Post - Religion': 0.0, 'Huffington Post - Weird News': 0.0, 'Independent - Business': 0.0, 'Independent - Education': 0.0, 'Independent - Media': 0.0, 'Independent - Money': 0.0, 'Independent - News': 0.0, 'Independent - Science': 0.0, 'Independent - UK': 0.0, 'Independent - World': 0.0, 'infowars': 0.0, 'ISC': 0.0, 'Japan Today': 0.0, 'Journal du hacker': 0.0, 'JPost - Arab Israeli Conflict': 0.0, 'JPost - BDS Movement': 0.0, 'JPost - Breaking News': 0.0, 'JPost - Gaza News': 0.0, 'Laotian Times - all': 0.0, 'Lead Stories': 0.0, 'LGBTQ Nation - all': 0.0, 'Mail & Guardian': 0.0, 'Media Bias/Fact Check': 0.0, 'Metabunk': 0.0, 'Metro - The Guardian Nigeria': 0.0, 'MetroNews - Canada': 0.0, 'MetroNews - Toronto': 0.0, 'MetroNews - World': 0.0, 'Mexico News Daily': 0.0, 'MotherJones - all': 0.0, 'MSNBC - Latest Headlines': 0.0, 'NBC - Politics': 0.0, 'NBC - Top Stories': 0.0, 'NBC - US': 0.0, 'Nepali Times - all': 0.0, 'New Statesman': 0.0, 'New Statesmen - Politics': 0.0, 'News24 - Africa': 0.0, 'News24 - South Africa': 0.0, 'News24 - Top Stories': 0.0, 'News24 - World': 0.0, 'Newsy - All Videos': 0.0, 'Nikkei Asian Review': 0.0, 'North Korea News.org - all': 0.0, 'North Korean Times - Latest': 0.0, 'Novinite (Bulgarian)': 0.0, 'NPR - Arts': 0.0, 'NPR - Business': 0.0, 'NPR - Health & Science': 0.0, 'NPR - Middle East': 0.0, 'NPR - News': 0.0, 'NPR - Politics': 0.0, 'NPR - Research News': 0.0, 'NPR - Space': 0.0, 'NPR - U.S. News': 0.0, 'NPR - World News': 0.0, 'NY Post': 0.0, 'NYT - Africa': 0.0, 'NYT - Americas': 0.0, 'NYT - Asia Pacific': 0.0, 'NYT - Business': 0.0, 'NYT - Europe': 0.0, 'NYT - Middle East': 0.0, 'NYT - Science': 0.0, 'NYT - Technology': 0.0, 'NYT - US': 0.0, 'NYT - US Politics': 0.0, 'NYT - Wire': 0.0, 'NYT - World News': 0.0, 'OANN - all': 0.0, 'OANN - Business': 0.0, 'OANN - Economy': 0.0, 'OANN - Money': 0.0, 'OANN - Tech': 0.0, 'OANN - Top News': 0.0, 'OANN - World': 0.0, 'PBS - NewsHour The Latest': 0.0, 'Peruvian Times': 0.0, 'Phoronix': 0.0, 'Politico - Congress': 0.0, 'Politico - Defense': 0.0, 'Politico - Economy': 0.0, 'Politico - Energy & Environment': 0.0, 'Politico - Health Care': 0.0, 'Politico - Picks': 0.0, 'Politico - Politics': 0.0, 'Politifact - Articles': 0.0, 'Politifact - Statements': 0.0, 'ProPublica - Main': 0.0, 'pulse.ng - Local': 0.0, 'Radio-Canada Nouvelles': 0.0, 'Rasmussen Reports': 0.0, 'Raw Story': 0.0, 'Real Clear Poltics': 0.0, 'Reason.com - Articles': 0.0, 'Reddit - /r/Europe': 0.0, 'Reddit - /r/netsec': 0.0, 'Reddit - /r/news': 0.0, 'Reddit - /r/politics': 0.0, 'Reddit - /r/TrueReddit': 0.0, 'Reddit - /r/UpliftingNews': 0.0, 'Reddit - /r/WorldNews - New': 0.0, 'Reddit - Russia Lago': 0.0, 'Reuters - Arts': 0.0, 'Reuters - Business': 0.0, 'Reuters - Company News': 0.0, 'Reuters - Entertainment': 0.0, 'Reuters - Environment': 0.0, 'Reuters - Health News': 0.0, 'Reuters - Lifestyle': 0.0, 'Reuters - Money': 0.0, 'Reuters - Most Watched Video': 0.0, 'Reuters - Oddly Enough': 0.0, 'Reuters - People': 0.0, 'Reuters - Pictures': 0.0, 'Reuters - Politics': 0.0, 'Reuters - Politics Video': 0.0, 'Reuters - Science': 0.0, 'Reuters - Sports': 0.0, 'Reuters - Technology': 0.0, 'Reuters - Top News': 0.0, 'Reuters - Top News Video': 0.0, 'Reuters - US News': 0.0, 'Reuters - World': 0.0, 'Reuters - World News Video': 0.0, 'RightWingWatch': 0.0, 'Rio Times - All': 0.0, 'RollCall - All': 0.0, 'RollCall - Heard on the Hill': 0.0, 'RollCall - News without Opinion': 0.0, 'RollCall - Opinion/Analysis': 0.0, 'RollCall - Policy': 0.0, 'RollCall - Rothenblog': 0.0, 'Romania Insider - all': 0.0, 'RT': 0.0, 'SABC News': 0.0, 'Science Daily - all': 0.0, 'SCOTUSblog': 0.0, 'Sky News': 0.0, 'Sky News - Business': 0.0, 'Sky News - Politics': 0.0, 'Sky News - Strange News': 0.0, 'Sky News - Technology': 0.0, 'Sky News - UK': 0.0, 'Sky News - US': 0.0, 'Sky News - World': 0.0, 'Slate - Main': 0.0, 'Slate - Politics': 0.0, 'Slate - Science': 0.0, 'Smithsonian Science': 0.0, 'Snopes': 0.0, 'South China Morning Post - (China) Diplomacy & Defense': 0.0, 'South China Morning Post - (China) Economy': 0.0, 'South China Morning Post - (China) Money & Wealth': 0.0, 'South China Morning Post - (China) Policies & Politics': 0.0, 'South China Morning Post - (China) Society': 0.0, 'South China Morning Post - (HK) Economy': 0.0, 'South China Morning Post - (HK) Law & Crime': 0.0, 'South China Morning Post - (HK) Politics': 0.0, 'South China Morning Post - Asia': 0.0, 'South China Morning Post - China': 0.0, 'South China Morning Post - Hong Kong': 0.0, 'South China Morning Post - News': 0.0, 'South China Morning Post - World': 0.0, 'South China MP - (Business) China Economy': 0.0, 'South China MP - Africa': 0.0, 'South China MP - Americas': 0.0, 'South China MP - Arts & Entertainment': 0.0, 'South China MP - Australasia': 0.0, 'South China MP - Culture': 0.0, 'South China MP - East Asia': 0.0, 'South China MP - Europe': 0.0, 'South China MP - Film & TV': 0.0, 'South China MP - Life': 0.0, 'South China MP - Middle East': 0.0, 'South China MP - Music': 0.0, 'South China MP - Property HK / China': 0.0, 'South China MP - Russia & Central Asia': 0.0, 'South China MP - Southeast Asia': 0.0, 'South China MP - This Week in Asia': 0.0, 'South China MP - TWIA Business': 0.0, 'South China MP - TWIA Opinion': 0.0, 'South China MP - TWIA Politics': 0.0, 'South China MP - USA': 0.0, 'SowetanLIVE': 0.0, 'SRN News': 0.0, 'SWI - Top News': 0.0, 'Sydney Anglicans - All News': 0.0, 'Sydney Morning Herald - Business': 0.0, 'Sydney Morning Herald - National': 0.0, 'Sydney Morning Herald - Technology': 0.0, 'Sydney Morning Herald - Top Stories': 0.0, 'Sydney Morning Herald - World': 0.0, 'Syrian Arab News Agency - all': 0.0, 'Taipei Times - all': 0.0, 'Taipei Times - Bilingual': 0.0, 'Taipei Times - Local News': 0.0, 'Taipei Times - World': 0.0, 'Taiwan Today - Top News': 0.0, 'techdirt': 0.0, 'Telegraph - Business': 0.0, 'Telegraph - Latest News': 0.0, 'Telegraph - News': 0.0, 'Telegraph - Politics': 0.0, 'Telegraph - Science': 0.0, 'Telegraph - Technology': 0.0, 'Thai PBS World': 0.0, 'Thailand News - Breaking': 0.0, 'The Atlantic - all': 0.0, 'The Atlantic - Global': 0.0, 'The Atlantic - Politics': 0.0, 'The Bali Times - all': 0.0, 'The Baltic Times - all': 0.0, 'The Citizen': 0.0, 'The Costa Rica News': 0.0, 'The Daily Caller - all': 0.0, 'The Gateway Pundit': 0.0, 'The Guardian - UK': 0.0, 'The Guardian - US': 0.0, 'The Hill - Administration': 0.0, 'The Hill - All News': 0.0, 'The Hill - Campaign': 0.0, 'The Hill - House': 0.0, 'The Hill - Senate': 0.0, 'The Himalayan Times - all': 0.0, 'The Intercept': 0.0, 'The Krakow Post - all': 0.0, 'The Local (Germany)': 0.0, 'The Local (Spain)': 0.0, 'The Moscow Times - News': 0.0, 'The Moscow Times - Opinion': 0.0, 'The Nation': 0.0, 'The Real News Network': 0.0, 'The Romania Journal - all': 0.0, 'The Slovak Spectator': 0.0, 'The Slovak Spectator - title': 0.0, 'The Sofia Globe (Bulgaria)': 0.0, 'The Standard (HK) - Latest News': 0.0, 'The Tico Times - Costa Rica News': 0.0, 'TheJournal': 0.0, 'Time - Blog: Politics, Swampland': 0.0, 'Time - Business': 0.0, 'Time - Health': 0.0, 'Time - Newsfeed': 0.0, 'Time - Science': 0.0, 'Time - Tech': 0.0, 'Time - Top Stories': 0.0, 'Time - World': 0.0, 'Times Colonist - All': 0.0, 'Times Colonist - B.C.': 0.0, 'Times Colonist - Business': 0.0, 'Times Colonist - News': 0.0, 'Times of India - China': 0.0, 'Times of India - Education': 0.0, 'Times of India - Environment': 0.0, 'Times of India - Europe': 0.0, 'Times of India - India': 0.0, 'Times of India - Mad, Mad World': 0.0, 'Times of India - Middle East': 0.0, 'Times of India - News (Video)': 0.0, 'Times of India - NRI': 0.0, 'Times of India - South Asia': 0.0, 'Times of India - Top Stories': 0.0, 'Times of India - UK': 0.0, 'Times of India - US': 0.0, 'Times of India - World': 0.0, 'Tonga Broadcasting': 0.0, 'TorrentFreak': 0.0, 'TownHall - Latest Breaking News': 0.0, 'TownHall - Political': 0.0, 'TownHall - Science & Tech': 0.0, 'Truth or Fiction': 0.0, 'UN News Service': 0.0, 'USA.gov Updates': 0.0, 'VICE News - News': 0.0, 'Voice of Russia': 0.0, 'Washington Post - Fact Checker': 0.0, 'Washington Post - National News': 0.0, 'Washington Post - Politics': 0.0, 'Washington Post - World News': 0.0, 'Washington Times - Culture': 0.0, 'Washington Times - National': 0.0, 'Washington Times - News': 0.0, 'Washington Times - Politics': 0.0, 'Washington Times - Tech': 0.0, 'Wikinews': 0.0, 'Wired': 0.0, 'WTFJHT': 0.0, 'XKCD': 0.0, 'Yahoo News': 0.0, 'Yahoo News - Politics': 0.0, 'Yahoo News - Top Stories': 0.0, 'yam.md Moldova': 0.0, 'Zawya - Exclusive': 0.0, 'Zawya - Latest': 0.0, 'Zawya - Top Markets': 0.0, 'Zawya - Top Regional': 0.0, 'Zehabesha - all': 0.0, 'ZeroHedge - News': 0.0}})\n"
          ],
          "name": "stdout"
        }
      ]
    },
    {
      "cell_type": "code",
      "metadata": {
        "id": "L9bc2FN-e5nP",
        "colab_type": "code",
        "outputId": "319e90a0-449c-4cad-eb58-916cc1cb0e68",
        "colab": {
          "base_uri": "https://localhost:8080/",
          "height": 97
        }
      },
      "source": [
        "# RUN THIS TO MAKE SURE THAT SPACY IS WORKING\n",
        "import spacy\n",
        "\n",
        "nlp = spacy.load('en_trf_distilbertbaseuncased_lg')\n",
        "doc = nlp(\"Apple shares rose on the news. Apple pie is delicious.\")\n",
        "print(doc[0].similarity(doc[7]))\n",
        "print(doc._.trf_last_hidden_state.shape)"
      ],
      "execution_count": 0,
      "outputs": [
        {
          "output_type": "display_data",
          "data": {
            "text/html": [
              "<p style=\"color: red;\">\n",
              "The default version of TensorFlow in Colab will soon switch to TensorFlow 2.x.<br>\n",
              "We recommend you <a href=\"https://www.tensorflow.org/guide/migrate\" target=\"_blank\">upgrade</a> now \n",
              "or ensure your notebook will continue to use TensorFlow 1.x via the <code>%tensorflow_version 1.x</code> magic:\n",
              "<a href=\"https://colab.research.google.com/notebooks/tensorflow_version.ipynb\" target=\"_blank\">more info</a>.</p>\n"
            ],
            "text/plain": [
              "<IPython.core.display.HTML object>"
            ]
          },
          "metadata": {
            "tags": []
          }
        },
        {
          "output_type": "stream",
          "text": [
            "0.7756554\n",
            "(16, 768)\n"
          ],
          "name": "stdout"
        }
      ]
    },
    {
      "cell_type": "code",
      "metadata": {
        "id": "UQJuNlC7hHra",
        "colab_type": "code",
        "colab": {}
      },
      "source": [
        "TRAIN_DATA = [\n",
        "    (\"text1\", {\"cats\": {\"POSITIVE\": 1.0, \"NEGATIVE\": 0.0, \"TESTING\": 0.0}})\n",
        "]"
      ],
      "execution_count": 0,
      "outputs": []
    },
    {
      "cell_type": "code",
      "metadata": {
        "id": "FhsoEOcNhLag",
        "colab_type": "code",
        "outputId": "5fb05f33-8aa3-4935-ec59-342576b15251",
        "colab": {
          "base_uri": "https://localhost:8080/",
          "height": 1000
        }
      },
      "source": [
        "import spacy\n",
        "import random\n",
        "import torch\n",
        "\n",
        "from spacy.util         import minibatch\n",
        "from spacy_transformers import TransformersLanguage, TransformersWordPiecer, TransformersTok2Vec\n",
        "\n",
        "BATCH_SIZE = 1000\n",
        "ITERATIONS = 2\n",
        "MODEL      = \"distilbert-base-uncased\"\n",
        "\n",
        "is_using_gpu = spacy.prefer_gpu()\n",
        "if is_using_gpu:\n",
        "    print(\"USING GPU\")\n",
        "    torch.set_default_tensor_type(\"torch.cuda.FloatTensor\")\n",
        "\n",
        "# nlp = TransformersLanguage(trf_name=MODEL, meta={\"lang\": \"en\"})\n",
        "# nlp.add_pipe(nlp.create_pipe(\"sentencizer\"))\n",
        "# nlp.add_pipe(TransformersWordPiecer.from_pretrained(nlp.vocab, MODEL))\n",
        "# nlp.add_pipe(TransformersTok2Vec.from_pretrained(nlp.vocab, MODEL))\n",
        "# print(nlp.pipe_names)  # ['sentencizer', 'trf_wordpiecer', 'trf_tok2vec']\n",
        "\n",
        "nlp = spacy.load(\"en_trf_distilbertbaseuncased_lg\")\n",
        "print(nlp.pipe_names) # [\"sentencizer\", \"trf_wordpiecer\", \"trf_tok2vec\"]\n",
        "textnews = nlp.create_pipe(\"trf_textcat\", config={\"exclusive_classes\": True})\n",
        "# for label in (\"POSITIVE\", \"NEGATIVE\", \"TESTING\"):\n",
        "for label in list_of_sites:\n",
        "    textnews.add_label(label)\n",
        "nlp.add_pipe(textnews)\n",
        "optimizer = nlp.resume_training()\n",
        "for i in range(ITERATIONS):\n",
        "    random.shuffle(TRAIN_DATA)\n",
        "    losses = {}\n",
        "    for x, batch in enumerate(minibatch(TRAIN_DATA, size=BATCH_SIZE)):\n",
        "        print(x)\n",
        "        texts, news = zip(*batch)\n",
        "        nlp.update(texts, news, sgd=optimizer, losses=losses)\n",
        "        print(losses)\n",
        "    print(i, losses)"
      ],
      "execution_count": 0,
      "outputs": [
        {
          "output_type": "display_data",
          "data": {
            "text/html": [
              "<p style=\"color: red;\">\n",
              "The default version of TensorFlow in Colab will soon switch to TensorFlow 2.x.<br>\n",
              "We recommend you <a href=\"https://www.tensorflow.org/guide/migrate\" target=\"_blank\">upgrade</a> now \n",
              "or ensure your notebook will continue to use TensorFlow 1.x via the <code>%tensorflow_version 1.x</code> magic:\n",
              "<a href=\"https://colab.research.google.com/notebooks/tensorflow_version.ipynb\" target=\"_blank\">more info</a>.</p>\n"
            ],
            "text/plain": [
              "<IPython.core.display.HTML object>"
            ]
          },
          "metadata": {
            "tags": []
          }
        },
        {
          "output_type": "stream",
          "text": [
            "USING GPU\n",
            "['sentencizer', 'trf_wordpiecer', 'trf_tok2vec']\n",
            "0\n",
            "{'trf_textcat': 9.977775334846228e-07}\n",
            "1\n",
            "{'trf_textcat': 1.994826789086801e-06}\n",
            "2\n",
            "{'trf_textcat': 2.9910064540672465e-06}\n",
            "3\n",
            "{'trf_textcat': 3.992309643763292e-06}\n",
            "4\n",
            "{'trf_textcat': 4.992492790734104e-06}\n",
            "5\n",
            "{'trf_textcat': 5.9879840819121455e-06}\n",
            "6\n",
            "{'trf_textcat': 6.980743933127087e-06}\n",
            "7\n",
            "{'trf_textcat': 7.972201728989603e-06}\n",
            "8\n",
            "{'trf_textcat': 8.962144306678965e-06}\n",
            "9\n",
            "{'trf_textcat': 9.951846323019709e-06}\n",
            "10\n",
            "{'trf_textcat': 1.0940934544123593e-05}\n",
            "11\n",
            "{'trf_textcat': 1.1929917604902585e-05}\n",
            "12\n",
            "{'trf_textcat': 1.2917545859636448e-05}\n",
            "13\n",
            "{'trf_textcat': 1.3904702541367442e-05}\n",
            "14\n",
            "{'trf_textcat': 1.4894941273269069e-05}\n",
            "15\n",
            "{'trf_textcat': 1.5882872844485973e-05}\n",
            "16\n",
            "{'trf_textcat': 1.687327335275768e-05}\n",
            "17\n",
            "{'trf_textcat': 1.786133134373813e-05}\n",
            "18\n",
            "{'trf_textcat': 1.88504571951853e-05}\n",
            "19\n",
            "{'trf_textcat': 1.98383040697081e-05}\n",
            "20\n",
            "{'trf_textcat': 2.0827467778872233e-05}\n",
            "21\n",
            "{'trf_textcat': 2.1816695834786515e-05}\n",
            "22\n",
            "{'trf_textcat': 2.280503258589306e-05}\n",
            "23\n",
            "{'trf_textcat': 2.379311558797781e-05}\n",
            "24\n",
            "{'trf_textcat': 2.4782943341961072e-05}\n",
            "25\n",
            "{'trf_textcat': 2.577254088009795e-05}\n",
            "26\n",
            "{'trf_textcat': 2.676095323295158e-05}\n",
            "27\n",
            "{'trf_textcat': 2.7750454592023743e-05}\n",
            "28\n",
            "{'trf_textcat': nan}\n",
            "29\n",
            "{'trf_textcat': nan}\n",
            "30\n",
            "{'trf_textcat': nan}\n",
            "31\n",
            "{'trf_textcat': nan}\n",
            "32\n",
            "{'trf_textcat': nan}\n",
            "33\n",
            "{'trf_textcat': nan}\n",
            "34\n",
            "{'trf_textcat': nan}\n",
            "35\n",
            "{'trf_textcat': nan}\n",
            "36\n",
            "{'trf_textcat': nan}\n",
            "37\n",
            "{'trf_textcat': nan}\n",
            "38\n",
            "{'trf_textcat': nan}\n",
            "39\n",
            "{'trf_textcat': nan}\n",
            "40\n",
            "{'trf_textcat': nan}\n",
            "41\n",
            "{'trf_textcat': nan}\n",
            "42\n",
            "{'trf_textcat': nan}\n",
            "43\n",
            "{'trf_textcat': nan}\n",
            "44\n",
            "{'trf_textcat': nan}\n",
            "45\n",
            "{'trf_textcat': nan}\n",
            "46\n",
            "{'trf_textcat': nan}\n",
            "47\n",
            "{'trf_textcat': nan}\n",
            "48\n",
            "{'trf_textcat': nan}\n",
            "49\n",
            "{'trf_textcat': nan}\n",
            "50\n",
            "{'trf_textcat': nan}\n",
            "51\n",
            "{'trf_textcat': nan}\n",
            "52\n",
            "{'trf_textcat': nan}\n",
            "53\n",
            "{'trf_textcat': nan}\n",
            "54\n"
          ],
          "name": "stdout"
        }
      ]
    },
    {
      "cell_type": "code",
      "metadata": {
        "id": "_yf9OvL_hea-",
        "colab_type": "code",
        "outputId": "e3ad2528-dd19-4f91-9bed-7831df2bc193",
        "colab": {
          "base_uri": "https://localhost:8080/",
          "height": 68
        }
      },
      "source": [
        "a = nlp(\"RANDOM TEXT\")\n",
        "a.cats"
      ],
      "execution_count": 8,
      "outputs": [
        {
          "output_type": "execute_result",
          "data": {
            "text/plain": [
              "{'NEGATIVE': 0.03571971505880356,\n",
              " 'POSITIVE': 0.9285604953765869,\n",
              " 'TESTING': 0.03571971505880356}"
            ]
          },
          "metadata": {
            "tags": []
          },
          "execution_count": 8
        }
      ]
    },
    {
      "cell_type": "code",
      "metadata": {
        "id": "63Y6ESVLJrZf",
        "colab_type": "code",
        "colab": {
          "base_uri": "https://localhost:8080/",
          "height": 131
        },
        "outputId": "7ca00b84-c4bc-406e-f276-28b2e8865f3c"
      },
      "source": [
        "from spacy_transformers import TransformersLanguage, TransformersWordPiecer, TransformersTok2Vec\n",
        "\n",
        "name = \"bert-base-uncased\"\n",
        "nlp = TransformersLanguage(trf_name=name, meta={\"lang\": \"en\"})\n",
        "nlp.add_pipe(nlp.create_pipe(\"sentencizer\"))\n",
        "nlp.add_pipe(TransformersWordPiecer.from_pretrained(nlp.vocab, name))\n",
        "nlp.add_pipe(TransformersTok2Vec.from_pretrained(nlp.vocab, name))\n",
        "print(nlp.pipe_names)  # ['sentencizer', 'trf_wordpiecer', 'trf_tok2vec']"
      ],
      "execution_count": 3,
      "outputs": [
        {
          "output_type": "display_data",
          "data": {
            "text/html": [
              "<p style=\"color: red;\">\n",
              "The default version of TensorFlow in Colab will soon switch to TensorFlow 2.x.<br>\n",
              "We recommend you <a href=\"https://www.tensorflow.org/guide/migrate\" target=\"_blank\">upgrade</a> now \n",
              "or ensure your notebook will continue to use TensorFlow 1.x via the <code>%tensorflow_version 1.x</code> magic:\n",
              "<a href=\"https://colab.research.google.com/notebooks/tensorflow_version.ipynb\" target=\"_blank\">more info</a>.</p>\n"
            ],
            "text/plain": [
              "<IPython.core.display.HTML object>"
            ]
          },
          "metadata": {
            "tags": []
          }
        },
        {
          "output_type": "stream",
          "text": [
            "100%|██████████| 231508/231508 [00:00<00:00, 5845050.93B/s]\n",
            "100%|██████████| 313/313 [00:00<00:00, 123570.89B/s]\n",
            "100%|██████████| 440473133/440473133 [00:07<00:00, 57110878.94B/s]\n"
          ],
          "name": "stderr"
        },
        {
          "output_type": "stream",
          "text": [
            "['sentencizer', 'trf_wordpiecer', 'trf_tok2vec']\n"
          ],
          "name": "stdout"
        }
      ]
    },
    {
      "cell_type": "code",
      "metadata": {
        "id": "EW37K6y5Kbrg",
        "colab_type": "code",
        "colab": {}
      },
      "source": [
        "textnews = nlp.create_pipe(\"trf_textcat\", config={\"exclusive_classes\": True})\n",
        "for label in list_of_sites:\n",
        "    textnews.add_label(label)\n",
        "nlp.add_pipe(textnews)"
      ],
      "execution_count": 0,
      "outputs": []
    }
  ]
}